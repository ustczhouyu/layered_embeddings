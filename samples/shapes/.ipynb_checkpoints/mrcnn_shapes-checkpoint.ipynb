{
 "cells": [
  {
   "cell_type": "markdown",
   "metadata": {},
   "source": [
    "# Mask R-CNN - Train on Shapes Dataset\n",
    "\n",
    "\n",
    "This notebook shows how to train Mask R-CNN on your own dataset. To keep things simple we use a synthetic dataset of shapes (squares, triangles, and circles) which enables fast training. You'd still need a GPU, though, because the network backbone is a Resnet101, which would be too slow to train on a CPU. On a GPU, you can start to get okay-ish results in a few minutes, and good results in less than an hour.\n",
    "\n",
    "The code of the *Shapes* dataset is included below. It generates images on the fly, so it doesn't require downloading any data. And it can generate images of any size, so we pick a small image size to train faster. "
   ]
  },
  {
   "cell_type": "code",
   "execution_count": 1,
   "metadata": {},
   "outputs": [
    {
     "name": "stderr",
     "output_type": "stream",
     "text": [
      "C:\\ProgramData\\Anaconda3\\lib\\site-packages\\h5py\\__init__.py:36: FutureWarning: Conversion of the second argument of issubdtype from `float` to `np.floating` is deprecated. In future, it will be treated as `np.float64 == np.dtype(float).type`.\n",
      "  from ._conv import register_converters as _register_converters\n",
      "Using TensorFlow backend.\n"
     ]
    }
   ],
   "source": [
    "import os\n",
    "import json\n",
    "import sys\n",
    "import random\n",
    "import math\n",
    "import re\n",
    "import time\n",
    "import numpy as np\n",
    "import cv2\n",
    "import matplotlib\n",
    "import matplotlib.pyplot as plt\n",
    "from IPython.display import clear_output\n",
    "\n",
    "sys.path.append('C:/Users/yliu60/Documents/GitHub/amodalAPI/PythonAPI/pycocotools')\n",
    "sys.path.append('C:/Users/Yanfeng Liu/Documents/GitHub/amodalAPI/PythonAPI/pycocotools')\n",
    "\n",
    "import mask as Mask\n",
    "\n",
    "# Root directory of the project\n",
    "ROOT_DIR = os.path.abspath(\"../../\")\n",
    "\n",
    "# Import Mask RCNN\n",
    "sys.path.append(ROOT_DIR)  # To find local version of the library\n",
    "from mrcnn.config import Config\n",
    "from mrcnn.model import log\n",
    "from mrcnn import utils\n",
    "from mrcnn import visualize\n",
    "from PIL import Image, ImageDraw\n",
    "import mrcnn_shapes as shapes_lib\n",
    "import mrcnn.model as modellib\n",
    "%matplotlib inline \n",
    "\n",
    "import metrics_hist\n",
    "import params as params_lib\n",
    "import batchEval\n",
    "from experiment import get_mrcnn_result_list\n",
    "\n",
    "# Directory to save logs and trained model\n",
    "MODEL_DIR = os.path.join(ROOT_DIR, \"logs\")\n",
    "\n",
    "# Local path to trained weights file\n",
    "COCO_MODEL_PATH = os.path.join(ROOT_DIR, \"mask_rcnn_coco.h5\")\n",
    "# Download COCO trained weights from Releases if needed\n",
    "if not os.path.exists(COCO_MODEL_PATH):\n",
    "    utils.download_trained_weights(COCO_MODEL_PATH)\n",
    "\n",
    "from importlib import reload\n",
    "_ = reload(shapes_lib)\n",
    "_ = reload(visualize)\n",
    "_ = reload(modellib)\n",
    "_ = reload(metrics_hist)\n",
    "\n",
    "os.environ[\"CUDA_DEVICE_ORDER\"]=\"PCI_BUS_ID\"\n",
    "# The GPU id to use\n",
    "os.environ[\"CUDA_VISIBLE_DEVICES\"]=\"2\" "
   ]
  },
  {
   "cell_type": "code",
   "execution_count": 2,
   "metadata": {},
   "outputs": [],
   "source": [
    "num_instances_per_class = 6"
   ]
  },
  {
   "cell_type": "code",
   "execution_count": 3,
   "metadata": {},
   "outputs": [
    {
     "name": "stdout",
     "output_type": "stream",
     "text": [
      "\n",
      "Configurations:\n",
      "BACKBONE                       resnet101\n",
      "BACKBONE_STRIDES               [4, 8, 16, 32, 64]\n",
      "BATCH_SIZE                     2\n",
      "BBOX_STD_DEV                   [0.1 0.1 0.2 0.2]\n",
      "COMPUTE_BACKBONE_SHAPE         None\n",
      "DATASET_NAME                   shapes\n",
      "DATASET_TYPE                   val\n",
      "DETECTION_MAX_INSTANCES        100\n",
      "DETECTION_MIN_CONFIDENCE       0.7\n",
      "DETECTION_NMS_THRESHOLD        0.3\n",
      "DOWNSAMPLE_FACTOR              4\n",
      "DOWNSAMPLE_RESOLUTION          64\n",
      "DT_DIR                         C:/Users/yliu60/Documents/GitHub/Pixel-Embedding/results/mrcnn/6-1_2_3/\n",
      "FPN_CLASSIF_FC_LAYERS_SIZE     1024\n",
      "FULL_GT                        True\n",
      "GPU_COUNT                      1\n",
      "GRADIENT_CLIP_NORM             5.0\n",
      "IMAGES_PER_GPU                 2\n",
      "IMAGE_CHANNEL_COUNT            3\n",
      "IMAGE_MAX_DIM                  256\n",
      "IMAGE_META_SIZE                16\n",
      "IMAGE_MIN_DIM                  256\n",
      "IMAGE_MIN_SCALE                0\n",
      "IMAGE_RESIZE_MODE              none\n",
      "IMAGE_SHAPE                    [256 256   3]\n",
      "LEARNING_MOMENTUM              0.9\n",
      "LEARNING_RATE                  0.0001\n",
      "LOSS_WEIGHTS                   {'rpn_class_loss': 1.0, 'rpn_bbox_loss': 1.0, 'mrcnn_class_loss': 1.0, 'mrcnn_bbox_loss': 1.0, 'mrcnn_mask_loss': 1.0}\n",
      "MASK_POOL_SIZE                 14\n",
      "MASK_SHAPE                     [28, 28]\n",
      "MAX_GT_INSTANCES               100\n",
      "MEAN_PIXEL                     [123.7 116.8 103.9]\n",
      "MINI_MASK_SHAPE                (56, 56)\n",
      "NAME                           shapes\n",
      "NUM_CLASSES                    4\n",
      "POOL_SIZE                      7\n",
      "POST_NMS_ROIS_INFERENCE        1000\n",
      "POST_NMS_ROIS_TRAINING         2000\n",
      "PRE_NMS_LIMIT                  6000\n",
      "RANDOM                         False\n",
      "ROI_POSITIVE_RATIO             0.33\n",
      "RPN_ANCHOR_RATIOS              [0.5, 1, 2]\n",
      "RPN_ANCHOR_SCALES              (8, 16, 32, 64, 128)\n",
      "RPN_ANCHOR_STRIDE              1\n",
      "RPN_BBOX_STD_DEV               [0.1 0.1 0.2 0.2]\n",
      "RPN_NMS_THRESHOLD              0.7\n",
      "RPN_TRAIN_ANCHORS_PER_IMAGE    256\n",
      "SMALL                          True\n",
      "STEPS_PER_EPOCH                1000\n",
      "TOP_DOWN_PYRAMID_SIZE          256\n",
      "TRAIN_BN                       False\n",
      "TRAIN_ROIS_PER_IMAGE           64\n",
      "USE_MINI_MASK                  True\n",
      "USE_RPN_ROIS                   True\n",
      "VALIDATION_STEPS               100\n",
      "WEIGHT_DECAY                   0.0001\n",
      "\n",
      "\n"
     ]
    }
   ],
   "source": [
    "class ShapesConfig(Config):\n",
    "    \"\"\"Configuration for training on the toy shapes dataset.\n",
    "    Derives from the base Config class and overrides values specific\n",
    "    to the toy shapes dataset.\n",
    "    \"\"\"\n",
    "    # Give the configuration a recognizable name\n",
    "    NAME = \"shapes\"\n",
    "\n",
    "    # Train on 1 GPU and 8 images per GPU. We can put multiple images on each\n",
    "    # GPU because the images are small. Batch size is 8 (GPUs * images/GPU).\n",
    "    GPU_COUNT = 1\n",
    "    IMAGES_PER_GPU = 2\n",
    "\n",
    "    # Number of classes (including background)\n",
    "    NUM_CLASSES = 1 + 3  # background + 3 shapes\n",
    "\n",
    "    # Use small images for faster training. Set the limits of the small side\n",
    "    # the large side, and that determines the image shape.\n",
    "    IMAGE_MIN_DIM = 256\n",
    "    IMAGE_MAX_DIM = 256\n",
    "    \n",
    "    IMAGE_RESIZE_MODE = \"none\"\n",
    "\n",
    "    # Use smaller anchors because our image and objects are small\n",
    "    RPN_ANCHOR_SCALES = (8, 16, 32, 64, 128)  # anchor side in pixels\n",
    "\n",
    "    # Reduce training ROIs per image because the images are small and have\n",
    "    # few objects. Aim to allow ROI sampling to pick 33% positive ROIs.\n",
    "    TRAIN_ROIS_PER_IMAGE = 64\n",
    "\n",
    "    # Use a small epoch since the data is simple\n",
    "    STEPS_PER_EPOCH = 1000\n",
    "\n",
    "    # use small validation steps since the epoch is small\n",
    "    VALIDATION_STEPS = 100\n",
    "    \n",
    "    LEARNING_RATE = 1e-4\n",
    "    \n",
    "    # custom properties\n",
    "    FULL_GT = True\n",
    "    SMALL = True\n",
    "    RANDOM = False\n",
    "    DATASET_TYPE = 'val'\n",
    "    DATASET_NAME = 'shapes'\n",
    "    DT_DIR = 'C:/Users/yliu60/Documents/GitHub/Pixel-Embedding/results/mrcnn/6-1_2_3/'\n",
    "    DOWNSAMPLE_FACTOR = 4\n",
    "    DOWNSAMPLE_RESOLUTION = 64\n",
    "    \n",
    "config = ShapesConfig()\n",
    "config.display()"
   ]
  },
  {
   "cell_type": "code",
   "execution_count": 4,
   "metadata": {
    "collapsed": true
   },
   "outputs": [],
   "source": [
    "np.random.seed(num_instances_per_class)\n",
    "# Validation dataset\n",
    "dataset_val = shapes_lib.ShapesDataset(num_instances_per_class)\n",
    "dataset_val.load_shapes(1000, config.IMAGE_SHAPE[0], config.IMAGE_SHAPE[1])\n",
    "dataset_val.prepare()\n",
    "config.MRCNN_DATASET = dataset_val"
   ]
  },
  {
   "cell_type": "code",
   "execution_count": 5,
   "metadata": {
    "collapsed": true
   },
   "outputs": [],
   "source": [
    "def get_ax(rows=1, cols=1, size=8):\n",
    "    \"\"\"Return a Matplotlib Axes array to be used in\n",
    "    all visualizations in the notebook. Provide a\n",
    "    central point to control graph sizes.\n",
    "    \n",
    "    Change the default size attribute to control the size\n",
    "    of rendered images\n",
    "    \"\"\"\n",
    "    _, ax = plt.subplots(rows, cols, figsize=(size*cols, size*rows))\n",
    "    return ax"
   ]
  },
  {
   "cell_type": "code",
   "execution_count": 6,
   "metadata": {},
   "outputs": [],
   "source": [
    "class InferenceConfig(ShapesConfig):\n",
    "    GPU_COUNT = 1\n",
    "    IMAGES_PER_GPU = 1\n",
    "\n",
    "inference_config = InferenceConfig()"
   ]
  },
  {
   "cell_type": "code",
   "execution_count": 7,
   "metadata": {},
   "outputs": [],
   "source": [
    "# Create model in training mode\n",
    "model = modellib.MaskRCNN(mode=\"training\", config=config,\n",
    "                          model_dir=MODEL_DIR)\n",
    "\n",
    "# Which weights to start with?\n",
    "init_with = \"coco\"  # imagenet, coco, or last\n",
    "\n",
    "if init_with == \"imagenet\":\n",
    "    model.load_weights(model.get_imagenet_weights(), by_name=True)\n",
    "elif init_with == \"coco\":\n",
    "    # Load weights trained on MS COCO, but skip layers that\n",
    "    # are different due to the different number of classes\n",
    "    # See README for instructions to download the COCO weights\n",
    "    model.load_weights(COCO_MODEL_PATH, by_name=True,\n",
    "                       exclude=[\"mrcnn_class_logits\", \"mrcnn_bbox_fc\", \n",
    "                                \"mrcnn_bbox\", \"mrcnn_mask\"])\n",
    "elif init_with == \"last\":\n",
    "    # Load the last model you trained and continue training\n",
    "    model.load_weights(model.find_last(), by_name=True)"
   ]
  },
  {
   "cell_type": "code",
   "execution_count": 8,
   "metadata": {},
   "outputs": [],
   "source": [
    "EPOCHS = 100\n",
    "hist = metrics_hist.MetricsHist(config.DT_DIR)\n",
    "# get new training dataset at every epoch\n",
    "dataset_train = shapes_lib.ShapesDataset(num_instances_per_class)\n",
    "dataset_train.load_shapes(1, config.IMAGE_SHAPE[0], config.IMAGE_SHAPE[1])\n",
    "dataset_train.prepare()"
   ]
  },
  {
   "cell_type": "code",
   "execution_count": 9,
   "metadata": {},
   "outputs": [
    {
     "name": "stdout",
     "output_type": "stream",
     "text": [
      "\n",
      "Starting at epoch 0. LR=0.0001\n",
      "\n",
      "Checkpoint Path: C:\\Users\\yliu60\\Documents\\GitHub\\Pixel-Embedding\\logs\\shapes20190303T1433\\mask_rcnn_shapes_0.h5\n",
      "Selecting layers to train\n",
      "Epoch 1/100\n",
      "1000/1000 [==============================] - 715s 715ms/step - loss: 1.6266 - rpn_class_loss: 0.0171 - rpn_bbox_loss: 0.4785 - mrcnn_class_loss: 0.4982 - mrcnn_bbox_loss: 0.3244 - mrcnn_mask_loss: 0.3084 - val_loss: 1.2856 - val_rpn_class_loss: 0.0092 - val_rpn_bbox_loss: 0.3423 - val_mrcnn_class_loss: 0.4301 - val_mrcnn_bbox_loss: 0.2427 - val_mrcnn_mask_loss: 0.2613\n",
      "Epoch 2/100\n",
      "1000/1000 [==============================] - 657s 657ms/step - loss: 1.1605 - rpn_class_loss: 0.0094 - rpn_bbox_loss: 0.3182 - mrcnn_class_loss: 0.3761 - mrcnn_bbox_loss: 0.2211 - mrcnn_mask_loss: 0.2356 - val_loss: 1.1196 - val_rpn_class_loss: 0.0088 - val_rpn_bbox_loss: 0.2978 - val_mrcnn_class_loss: 0.3840 - val_mrcnn_bbox_loss: 0.2027 - val_mrcnn_mask_loss: 0.2264\n",
      "Epoch 3/100\n",
      "1000/1000 [==============================] - 662s 662ms/step - loss: 1.0310 - rpn_class_loss: 0.0074 - rpn_bbox_loss: 0.2789 - mrcnn_class_loss: 0.3347 - mrcnn_bbox_loss: 0.1928 - mrcnn_mask_loss: 0.2171 - val_loss: 0.9753 - val_rpn_class_loss: 0.0082 - val_rpn_bbox_loss: 0.2486 - val_mrcnn_class_loss: 0.3221 - val_mrcnn_bbox_loss: 0.1878 - val_mrcnn_mask_loss: 0.2086\n",
      "Epoch 4/100\n",
      "1000/1000 [==============================] - 645s 645ms/step - loss: 0.9647 - rpn_class_loss: 0.0063 - rpn_bbox_loss: 0.2572 - mrcnn_class_loss: 0.3201 - mrcnn_bbox_loss: 0.1765 - mrcnn_mask_loss: 0.2046 - val_loss: 0.9751 - val_rpn_class_loss: 0.0062 - val_rpn_bbox_loss: 0.2546 - val_mrcnn_class_loss: 0.3292 - val_mrcnn_bbox_loss: 0.1816 - val_mrcnn_mask_loss: 0.2035\n",
      "Epoch 5/100\n",
      "1000/1000 [==============================] - 646s 646ms/step - loss: 0.9138 - rpn_class_loss: 0.0057 - rpn_bbox_loss: 0.2445 - mrcnn_class_loss: 0.3005 - mrcnn_bbox_loss: 0.1654 - mrcnn_mask_loss: 0.1977 - val_loss: 0.9284 - val_rpn_class_loss: 0.0051 - val_rpn_bbox_loss: 0.2452 - val_mrcnn_class_loss: 0.3076 - val_mrcnn_bbox_loss: 0.1731 - val_mrcnn_mask_loss: 0.1974\n",
      "Epoch 6/100\n",
      "1000/1000 [==============================] - 651s 651ms/step - loss: 0.8697 - rpn_class_loss: 0.0054 - rpn_bbox_loss: 0.2355 - mrcnn_class_loss: 0.2860 - mrcnn_bbox_loss: 0.1551 - mrcnn_mask_loss: 0.1877 - val_loss: 0.8685 - val_rpn_class_loss: 0.0053 - val_rpn_bbox_loss: 0.2279 - val_mrcnn_class_loss: 0.2887 - val_mrcnn_bbox_loss: 0.1565 - val_mrcnn_mask_loss: 0.1901\n",
      "Epoch 7/100\n",
      "1000/1000 [==============================] - 649s 649ms/step - loss: 0.8247 - rpn_class_loss: 0.0050 - rpn_bbox_loss: 0.2188 - mrcnn_class_loss: 0.2737 - mrcnn_bbox_loss: 0.1472 - mrcnn_mask_loss: 0.1800 - val_loss: 0.8172 - val_rpn_class_loss: 0.0041 - val_rpn_bbox_loss: 0.2133 - val_mrcnn_class_loss: 0.2708 - val_mrcnn_bbox_loss: 0.1477 - val_mrcnn_mask_loss: 0.1813\n",
      "Epoch 8/100\n",
      "1000/1000 [==============================] - 669s 669ms/step - loss: 0.7953 - rpn_class_loss: 0.0048 - rpn_bbox_loss: 0.2149 - mrcnn_class_loss: 0.2577 - mrcnn_bbox_loss: 0.1439 - mrcnn_mask_loss: 0.1740 - val_loss: 0.7571 - val_rpn_class_loss: 0.0056 - val_rpn_bbox_loss: 0.1975 - val_mrcnn_class_loss: 0.2409 - val_mrcnn_bbox_loss: 0.1402 - val_mrcnn_mask_loss: 0.1729\n",
      "Epoch 9/100\n",
      "1000/1000 [==============================] - 661s 661ms/step - loss: 0.7907 - rpn_class_loss: 0.0047 - rpn_bbox_loss: 0.2108 - mrcnn_class_loss: 0.2596 - mrcnn_bbox_loss: 0.1410 - mrcnn_mask_loss: 0.1746 - val_loss: 0.7547 - val_rpn_class_loss: 0.0053 - val_rpn_bbox_loss: 0.1998 - val_mrcnn_class_loss: 0.2474 - val_mrcnn_bbox_loss: 0.1303 - val_mrcnn_mask_loss: 0.1719\n",
      "Epoch 10/100\n",
      "1000/1000 [==============================] - 655s 655ms/step - loss: 0.7829 - rpn_class_loss: 0.0046 - rpn_bbox_loss: 0.2084 - mrcnn_class_loss: 0.2625 - mrcnn_bbox_loss: 0.1376 - mrcnn_mask_loss: 0.1698 - val_loss: 0.7997 - val_rpn_class_loss: 0.0045 - val_rpn_bbox_loss: 0.2073 - val_mrcnn_class_loss: 0.2815 - val_mrcnn_bbox_loss: 0.1373 - val_mrcnn_mask_loss: 0.1691\n",
      "Epoch 11/100\n",
      "1000/1000 [==============================] - 657s 657ms/step - loss: 0.7643 - rpn_class_loss: 0.0044 - rpn_bbox_loss: 0.2047 - mrcnn_class_loss: 0.2556 - mrcnn_bbox_loss: 0.1330 - mrcnn_mask_loss: 0.1666 - val_loss: 0.7545 - val_rpn_class_loss: 0.0045 - val_rpn_bbox_loss: 0.2030 - val_mrcnn_class_loss: 0.2509 - val_mrcnn_bbox_loss: 0.1274 - val_mrcnn_mask_loss: 0.1687\n",
      "Epoch 12/100\n",
      "1000/1000 [==============================] - 651s 651ms/step - loss: 0.7537 - rpn_class_loss: 0.0043 - rpn_bbox_loss: 0.2014 - mrcnn_class_loss: 0.2506 - mrcnn_bbox_loss: 0.1313 - mrcnn_mask_loss: 0.1660 - val_loss: 0.7146 - val_rpn_class_loss: 0.0038 - val_rpn_bbox_loss: 0.1989 - val_mrcnn_class_loss: 0.2329 - val_mrcnn_bbox_loss: 0.1212 - val_mrcnn_mask_loss: 0.1576\n",
      "Epoch 13/100\n",
      "1000/1000 [==============================] - 659s 659ms/step - loss: 0.7320 - rpn_class_loss: 0.0042 - rpn_bbox_loss: 0.1953 - mrcnn_class_loss: 0.2417 - mrcnn_bbox_loss: 0.1284 - mrcnn_mask_loss: 0.1624 - val_loss: 0.7251 - val_rpn_class_loss: 0.0044 - val_rpn_bbox_loss: 0.1816 - val_mrcnn_class_loss: 0.2424 - val_mrcnn_bbox_loss: 0.1320 - val_mrcnn_mask_loss: 0.1648\n",
      "Epoch 14/100\n",
      "1000/1000 [==============================] - 646s 646ms/step - loss: 0.7223 - rpn_class_loss: 0.0040 - rpn_bbox_loss: 0.1916 - mrcnn_class_loss: 0.2414 - mrcnn_bbox_loss: 0.1257 - mrcnn_mask_loss: 0.1596 - val_loss: 0.7193 - val_rpn_class_loss: 0.0050 - val_rpn_bbox_loss: 0.2075 - val_mrcnn_class_loss: 0.2286 - val_mrcnn_bbox_loss: 0.1203 - val_mrcnn_mask_loss: 0.1578\n",
      "Epoch 15/100\n",
      " 841/1000 [========================>.....] - ETA: 1:36 - loss: 0.7069 - rpn_class_loss: 0.0038 - rpn_bbox_loss: 0.1923 - mrcnn_class_loss: 0.2328 - mrcnn_bbox_loss: 0.1218 - mrcnn_mask_loss: 0.1561"
     ]
    },
    {
     "ename": "KeyboardInterrupt",
     "evalue": "",
     "output_type": "error",
     "traceback": [
      "\u001b[1;31m---------------------------------------------------------------------------\u001b[0m",
      "\u001b[1;31mKeyboardInterrupt\u001b[0m                         Traceback (most recent call last)",
      "\u001b[1;32m<ipython-input-9-12f1b1909ec8>\u001b[0m in \u001b[0;36m<module>\u001b[1;34m()\u001b[0m\n\u001b[0;32m      3\u001b[0m             \u001b[0mlearning_rate\u001b[0m\u001b[1;33m=\u001b[0m\u001b[0mconfig\u001b[0m\u001b[1;33m.\u001b[0m\u001b[0mLEARNING_RATE\u001b[0m\u001b[1;33m,\u001b[0m\u001b[1;33m\u001b[0m\u001b[0m\n\u001b[0;32m      4\u001b[0m             \u001b[0mepochs\u001b[0m\u001b[1;33m=\u001b[0m\u001b[0mEPOCHS\u001b[0m\u001b[1;33m,\u001b[0m\u001b[1;33m\u001b[0m\u001b[0m\n\u001b[1;32m----> 5\u001b[1;33m             layers=\"all\")\n\u001b[0m",
      "\u001b[1;32m~\\Documents\\GitHub\\Pixel-Embedding\\mrcnn\\model.py\u001b[0m in \u001b[0;36mtrain\u001b[1;34m(self, train_dataset, val_dataset, learning_rate, epochs, layers, augmentation, custom_callbacks, no_augmentation_sources)\u001b[0m\n\u001b[0;32m   2571\u001b[0m             \u001b[0mmax_queue_size\u001b[0m\u001b[1;33m=\u001b[0m\u001b[1;36m100\u001b[0m\u001b[1;33m,\u001b[0m\u001b[1;33m\u001b[0m\u001b[0m\n\u001b[0;32m   2572\u001b[0m             \u001b[0mworkers\u001b[0m\u001b[1;33m=\u001b[0m\u001b[0mworkers\u001b[0m\u001b[1;33m,\u001b[0m\u001b[1;33m\u001b[0m\u001b[0m\n\u001b[1;32m-> 2573\u001b[1;33m             \u001b[0muse_multiprocessing\u001b[0m\u001b[1;33m=\u001b[0m\u001b[1;32mTrue\u001b[0m\u001b[1;33m,\u001b[0m\u001b[1;33m\u001b[0m\u001b[0m\n\u001b[0m\u001b[0;32m   2574\u001b[0m         )\n\u001b[0;32m   2575\u001b[0m         \u001b[0mself\u001b[0m\u001b[1;33m.\u001b[0m\u001b[0mepoch\u001b[0m \u001b[1;33m=\u001b[0m \u001b[0mmax\u001b[0m\u001b[1;33m(\u001b[0m\u001b[0mself\u001b[0m\u001b[1;33m.\u001b[0m\u001b[0mepoch\u001b[0m\u001b[1;33m,\u001b[0m \u001b[0mepochs\u001b[0m\u001b[1;33m)\u001b[0m\u001b[1;33m\u001b[0m\u001b[0m\n",
      "\u001b[1;32mC:\\ProgramData\\Anaconda3\\lib\\site-packages\\keras\\legacy\\interfaces.py\u001b[0m in \u001b[0;36mwrapper\u001b[1;34m(*args, **kwargs)\u001b[0m\n\u001b[0;32m     89\u001b[0m                 warnings.warn('Update your `' + object_name +\n\u001b[0;32m     90\u001b[0m                               '` call to the Keras 2 API: ' + signature, stacklevel=2)\n\u001b[1;32m---> 91\u001b[1;33m             \u001b[1;32mreturn\u001b[0m \u001b[0mfunc\u001b[0m\u001b[1;33m(\u001b[0m\u001b[1;33m*\u001b[0m\u001b[0margs\u001b[0m\u001b[1;33m,\u001b[0m \u001b[1;33m**\u001b[0m\u001b[0mkwargs\u001b[0m\u001b[1;33m)\u001b[0m\u001b[1;33m\u001b[0m\u001b[0m\n\u001b[0m\u001b[0;32m     92\u001b[0m         \u001b[0mwrapper\u001b[0m\u001b[1;33m.\u001b[0m\u001b[0m_original_function\u001b[0m \u001b[1;33m=\u001b[0m \u001b[0mfunc\u001b[0m\u001b[1;33m\u001b[0m\u001b[0m\n\u001b[0;32m     93\u001b[0m         \u001b[1;32mreturn\u001b[0m \u001b[0mwrapper\u001b[0m\u001b[1;33m\u001b[0m\u001b[0m\n",
      "\u001b[1;32mC:\\ProgramData\\Anaconda3\\lib\\site-packages\\keras\\engine\\training.py\u001b[0m in \u001b[0;36mfit_generator\u001b[1;34m(self, generator, steps_per_epoch, epochs, verbose, callbacks, validation_data, validation_steps, class_weight, max_queue_size, workers, use_multiprocessing, shuffle, initial_epoch)\u001b[0m\n\u001b[0;32m   1413\u001b[0m             \u001b[0muse_multiprocessing\u001b[0m\u001b[1;33m=\u001b[0m\u001b[0muse_multiprocessing\u001b[0m\u001b[1;33m,\u001b[0m\u001b[1;33m\u001b[0m\u001b[0m\n\u001b[0;32m   1414\u001b[0m             \u001b[0mshuffle\u001b[0m\u001b[1;33m=\u001b[0m\u001b[0mshuffle\u001b[0m\u001b[1;33m,\u001b[0m\u001b[1;33m\u001b[0m\u001b[0m\n\u001b[1;32m-> 1415\u001b[1;33m             initial_epoch=initial_epoch)\n\u001b[0m\u001b[0;32m   1416\u001b[0m \u001b[1;33m\u001b[0m\u001b[0m\n\u001b[0;32m   1417\u001b[0m     \u001b[1;33m@\u001b[0m\u001b[0minterfaces\u001b[0m\u001b[1;33m.\u001b[0m\u001b[0mlegacy_generator_methods_support\u001b[0m\u001b[1;33m\u001b[0m\u001b[0m\n",
      "\u001b[1;32mC:\\ProgramData\\Anaconda3\\lib\\site-packages\\keras\\engine\\training_generator.py\u001b[0m in \u001b[0;36mfit_generator\u001b[1;34m(model, generator, steps_per_epoch, epochs, verbose, callbacks, validation_data, validation_steps, class_weight, max_queue_size, workers, use_multiprocessing, shuffle, initial_epoch)\u001b[0m\n\u001b[0;32m    211\u001b[0m                 outs = model.train_on_batch(x, y,\n\u001b[0;32m    212\u001b[0m                                             \u001b[0msample_weight\u001b[0m\u001b[1;33m=\u001b[0m\u001b[0msample_weight\u001b[0m\u001b[1;33m,\u001b[0m\u001b[1;33m\u001b[0m\u001b[0m\n\u001b[1;32m--> 213\u001b[1;33m                                             class_weight=class_weight)\n\u001b[0m\u001b[0;32m    214\u001b[0m \u001b[1;33m\u001b[0m\u001b[0m\n\u001b[0;32m    215\u001b[0m                 \u001b[0mouts\u001b[0m \u001b[1;33m=\u001b[0m \u001b[0mto_list\u001b[0m\u001b[1;33m(\u001b[0m\u001b[0mouts\u001b[0m\u001b[1;33m)\u001b[0m\u001b[1;33m\u001b[0m\u001b[0m\n",
      "\u001b[1;32mC:\\ProgramData\\Anaconda3\\lib\\site-packages\\keras\\engine\\training.py\u001b[0m in \u001b[0;36mtrain_on_batch\u001b[1;34m(self, x, y, sample_weight, class_weight)\u001b[0m\n\u001b[0;32m   1213\u001b[0m             \u001b[0mins\u001b[0m \u001b[1;33m=\u001b[0m \u001b[0mx\u001b[0m \u001b[1;33m+\u001b[0m \u001b[0my\u001b[0m \u001b[1;33m+\u001b[0m \u001b[0msample_weights\u001b[0m\u001b[1;33m\u001b[0m\u001b[0m\n\u001b[0;32m   1214\u001b[0m         \u001b[0mself\u001b[0m\u001b[1;33m.\u001b[0m\u001b[0m_make_train_function\u001b[0m\u001b[1;33m(\u001b[0m\u001b[1;33m)\u001b[0m\u001b[1;33m\u001b[0m\u001b[0m\n\u001b[1;32m-> 1215\u001b[1;33m         \u001b[0moutputs\u001b[0m \u001b[1;33m=\u001b[0m \u001b[0mself\u001b[0m\u001b[1;33m.\u001b[0m\u001b[0mtrain_function\u001b[0m\u001b[1;33m(\u001b[0m\u001b[0mins\u001b[0m\u001b[1;33m)\u001b[0m\u001b[1;33m\u001b[0m\u001b[0m\n\u001b[0m\u001b[0;32m   1216\u001b[0m         \u001b[1;32mreturn\u001b[0m \u001b[0munpack_singleton\u001b[0m\u001b[1;33m(\u001b[0m\u001b[0moutputs\u001b[0m\u001b[1;33m)\u001b[0m\u001b[1;33m\u001b[0m\u001b[0m\n\u001b[0;32m   1217\u001b[0m \u001b[1;33m\u001b[0m\u001b[0m\n",
      "\u001b[1;32mC:\\ProgramData\\Anaconda3\\lib\\site-packages\\keras\\backend\\tensorflow_backend.py\u001b[0m in \u001b[0;36m__call__\u001b[1;34m(self, inputs)\u001b[0m\n\u001b[0;32m   2664\u001b[0m                 \u001b[1;32mreturn\u001b[0m \u001b[0mself\u001b[0m\u001b[1;33m.\u001b[0m\u001b[0m_legacy_call\u001b[0m\u001b[1;33m(\u001b[0m\u001b[0minputs\u001b[0m\u001b[1;33m)\u001b[0m\u001b[1;33m\u001b[0m\u001b[0m\n\u001b[0;32m   2665\u001b[0m \u001b[1;33m\u001b[0m\u001b[0m\n\u001b[1;32m-> 2666\u001b[1;33m             \u001b[1;32mreturn\u001b[0m \u001b[0mself\u001b[0m\u001b[1;33m.\u001b[0m\u001b[0m_call\u001b[0m\u001b[1;33m(\u001b[0m\u001b[0minputs\u001b[0m\u001b[1;33m)\u001b[0m\u001b[1;33m\u001b[0m\u001b[0m\n\u001b[0m\u001b[0;32m   2667\u001b[0m         \u001b[1;32melse\u001b[0m\u001b[1;33m:\u001b[0m\u001b[1;33m\u001b[0m\u001b[0m\n\u001b[0;32m   2668\u001b[0m             \u001b[1;32mif\u001b[0m \u001b[0mpy_any\u001b[0m\u001b[1;33m(\u001b[0m\u001b[0mis_tensor\u001b[0m\u001b[1;33m(\u001b[0m\u001b[0mx\u001b[0m\u001b[1;33m)\u001b[0m \u001b[1;32mfor\u001b[0m \u001b[0mx\u001b[0m \u001b[1;32min\u001b[0m \u001b[0minputs\u001b[0m\u001b[1;33m)\u001b[0m\u001b[1;33m:\u001b[0m\u001b[1;33m\u001b[0m\u001b[0m\n",
      "\u001b[1;32mC:\\ProgramData\\Anaconda3\\lib\\site-packages\\keras\\backend\\tensorflow_backend.py\u001b[0m in \u001b[0;36m_call\u001b[1;34m(self, inputs)\u001b[0m\n\u001b[0;32m   2634\u001b[0m                                 \u001b[0msymbol_vals\u001b[0m\u001b[1;33m,\u001b[0m\u001b[1;33m\u001b[0m\u001b[0m\n\u001b[0;32m   2635\u001b[0m                                 session)\n\u001b[1;32m-> 2636\u001b[1;33m         \u001b[0mfetched\u001b[0m \u001b[1;33m=\u001b[0m \u001b[0mself\u001b[0m\u001b[1;33m.\u001b[0m\u001b[0m_callable_fn\u001b[0m\u001b[1;33m(\u001b[0m\u001b[1;33m*\u001b[0m\u001b[0marray_vals\u001b[0m\u001b[1;33m)\u001b[0m\u001b[1;33m\u001b[0m\u001b[0m\n\u001b[0m\u001b[0;32m   2637\u001b[0m         \u001b[1;32mreturn\u001b[0m \u001b[0mfetched\u001b[0m\u001b[1;33m[\u001b[0m\u001b[1;33m:\u001b[0m\u001b[0mlen\u001b[0m\u001b[1;33m(\u001b[0m\u001b[0mself\u001b[0m\u001b[1;33m.\u001b[0m\u001b[0moutputs\u001b[0m\u001b[1;33m)\u001b[0m\u001b[1;33m]\u001b[0m\u001b[1;33m\u001b[0m\u001b[0m\n\u001b[0;32m   2638\u001b[0m \u001b[1;33m\u001b[0m\u001b[0m\n",
      "\u001b[1;32mC:\\ProgramData\\Anaconda3\\lib\\site-packages\\tensorflow\\python\\client\\session.py\u001b[0m in \u001b[0;36m__call__\u001b[1;34m(self, *args, **kwargs)\u001b[0m\n\u001b[0;32m   1380\u001b[0m           ret = tf_session.TF_SessionRunCallable(\n\u001b[0;32m   1381\u001b[0m               \u001b[0mself\u001b[0m\u001b[1;33m.\u001b[0m\u001b[0m_session\u001b[0m\u001b[1;33m.\u001b[0m\u001b[0m_session\u001b[0m\u001b[1;33m,\u001b[0m \u001b[0mself\u001b[0m\u001b[1;33m.\u001b[0m\u001b[0m_handle\u001b[0m\u001b[1;33m,\u001b[0m \u001b[0margs\u001b[0m\u001b[1;33m,\u001b[0m \u001b[0mstatus\u001b[0m\u001b[1;33m,\u001b[0m\u001b[1;33m\u001b[0m\u001b[0m\n\u001b[1;32m-> 1382\u001b[1;33m               run_metadata_ptr)\n\u001b[0m\u001b[0;32m   1383\u001b[0m         \u001b[1;32mif\u001b[0m \u001b[0mrun_metadata\u001b[0m\u001b[1;33m:\u001b[0m\u001b[1;33m\u001b[0m\u001b[0m\n\u001b[0;32m   1384\u001b[0m           \u001b[0mproto_data\u001b[0m \u001b[1;33m=\u001b[0m \u001b[0mtf_session\u001b[0m\u001b[1;33m.\u001b[0m\u001b[0mTF_GetBuffer\u001b[0m\u001b[1;33m(\u001b[0m\u001b[0mrun_metadata_ptr\u001b[0m\u001b[1;33m)\u001b[0m\u001b[1;33m\u001b[0m\u001b[0m\n",
      "\u001b[1;31mKeyboardInterrupt\u001b[0m: "
     ]
    }
   ],
   "source": [
    "for i in range(14, 100):\n",
    "    model.epoch = i\n",
    "    model.train(dataset_train, dataset_val, \n",
    "                learning_rate=config.LEARNING_RATE,\n",
    "                epochs=i+2,\n",
    "                layers=\"all\")\n",
    "    model.keras_model.save_weights('C:/Users/yliu60/Documents/GitHub/Pixel-Embedding/logs/shapes_6_instances_' + str(int(i)) + '_epoch.h5')"
   ]
  },
  {
   "cell_type": "code",
   "execution_count": 10,
   "metadata": {},
   "outputs": [],
   "source": [
    "model.keras_model.save_weights('C:/Users/yliu60/Documents/GitHub/Pixel-Embedding/logs/shapes_6_instances_14_epoch.h5')"
   ]
  },
  {
   "cell_type": "code",
   "execution_count": null,
   "metadata": {},
   "outputs": [],
   "source": []
  },
  {
   "cell_type": "code",
   "execution_count": null,
   "metadata": {},
   "outputs": [],
   "source": []
  },
  {
   "cell_type": "code",
   "execution_count": null,
   "metadata": {},
   "outputs": [],
   "source": []
  },
  {
   "cell_type": "code",
   "execution_count": null,
   "metadata": {},
   "outputs": [],
   "source": []
  },
  {
   "cell_type": "code",
   "execution_count": null,
   "metadata": {},
   "outputs": [],
   "source": [
    "plt.imshow(dataset_train.load_(0))"
   ]
  },
  {
   "cell_type": "markdown",
   "metadata": {},
   "source": [
    "# Evaluation"
   ]
  },
  {
   "cell_type": "code",
   "execution_count": null,
   "metadata": {},
   "outputs": [],
   "source": [
    "for i in np.linspace(0, 1, 11):\n",
    "    inference_config.RPN_NMS_THRESHOLD = 1.0\n",
    "    inference_config.DETECTION_NMS_THRESHOLD = np.float32(i)\n",
    "    model = modellib.MaskRCNN(mode=\"inference\", \n",
    "                              config=inference_config,\n",
    "                              model_dir=MODEL_DIR)\n",
    "\n",
    "    # Load trained weights\n",
    "    model_path = os.path.join('C:\\\\Users\\\\yliu60\\\\Documents\\\\GitHub\\\\Pixel-Embedding\\\\logs\\\\shapes_6_instances_100_epoch.h5')\n",
    "    print(\"Loading weights from \", model_path)\n",
    "    model.load_weights(model_path, by_name=True)\n",
    "\n",
    "    dt_filename = 'shapes.json'\n",
    "    result_list = get_mrcnn_result_list(model, config)\n",
    "\n",
    "    with open(os.path.join(config.DT_DIR, dt_filename), 'w') as outfile:\n",
    "        json.dump(result_list, outfile)\n",
    "\n",
    "    config.GT_JSON_DIR = 'C:\\\\Users\\\\yliu60\\\\Documents\\\\GitHub\\\\Pixel-Embedding\\\\gt_json\\\\deeplabv3\\\\6\\\\shapes_val_small_6_[1, 2, 3].json'\n",
    "\n",
    "    args = params_lib.Args()\n",
    "\n",
    "    args.num_shape_per_class = None\n",
    "    args.dt_dir              = config.DT_DIR\n",
    "    args.gt_dir              = config.GT_JSON_DIR\n",
    "    args.maxProp             = int(1000)\n",
    "    args.outputFile          = 'output'\n",
    "\n",
    "    metrics = batchEval.main(args)\n",
    "\n",
    "    print(\"NMS threshold: {}\".format(i))\n",
    "    ap            = metrics['both'].ap\n",
    "    ap50          = metrics['both'].ap_05\n",
    "    ap75          = metrics['both'].ap_075\n",
    "    ar100         = metrics['both'].ar100\n",
    "    ar_none       = metrics['both'].ar_none\n",
    "    ar_partial    = metrics['both'].ar_partial\n",
    "    ar_heavy      = metrics['both'].ar_heavy\n",
    "    string_format = \"{:.4f} & {:.4f} & {:.4f} & {:.4f} & {:.4f} & {:.4f} & {:.4f} \\\\\\\\ \\n \\\\hline\"\n",
    "    print(string_format.format(\n",
    "        ap, ap50, ap75, ar100, ar_none, ar_partial, ar_heavy))"
   ]
  },
  {
   "cell_type": "code",
   "execution_count": null,
   "metadata": {},
   "outputs": [],
   "source": []
  },
  {
   "cell_type": "code",
   "execution_count": null,
   "metadata": {},
   "outputs": [],
   "source": []
  },
  {
   "cell_type": "code",
   "execution_count": null,
   "metadata": {},
   "outputs": [],
   "source": []
  },
  {
   "cell_type": "code",
   "execution_count": null,
   "metadata": {},
   "outputs": [],
   "source": []
  },
  {
   "cell_type": "markdown",
   "metadata": {},
   "source": [
    "# Examples"
   ]
  },
  {
   "cell_type": "code",
   "execution_count": null,
   "metadata": {},
   "outputs": [],
   "source": [
    "for _ in range(4):\n",
    "    image_id = random.choice(dataset_val.image_ids)\n",
    "    print('image_id = {}'.format(image_id))\n",
    "    original_image, image_meta, gt_class_id, gt_bbox, gt_mask =\\\n",
    "        modellib.load_image_gt(dataset_val, inference_config, \n",
    "                               image_id, use_mini_mask=False)\n",
    "\n",
    "    log(\"original_image\", original_image)\n",
    "    log(\"image_meta\", image_meta)\n",
    "    log(\"gt_class_id\", gt_class_id)\n",
    "    log(\"gt_bbox\", gt_bbox)\n",
    "    log(\"gt_mask\", gt_mask)\n",
    "\n",
    "    visualize.display_instances(original_image, gt_bbox, gt_mask, gt_class_id, \n",
    "                                dataset_val.class_names, figsize=(8, 8))\n",
    "\n",
    "    results = model.detect([original_image], verbose=0)\n",
    "\n",
    "    r = results[0]\n",
    "    visualize.display_instances(original_image, r['rois'], r['masks'], r['class_ids'], \n",
    "                                dataset_val.class_names, r['scores'], ax=get_ax())\n",
    "\n"
   ]
  },
  {
   "cell_type": "code",
   "execution_count": null,
   "metadata": {},
   "outputs": [],
   "source": []
  },
  {
   "cell_type": "code",
   "execution_count": null,
   "metadata": {},
   "outputs": [],
   "source": []
  },
  {
   "cell_type": "code",
   "execution_count": null,
   "metadata": {},
   "outputs": [],
   "source": []
  },
  {
   "cell_type": "code",
   "execution_count": null,
   "metadata": {},
   "outputs": [],
   "source": []
  },
  {
   "cell_type": "code",
   "execution_count": null,
   "metadata": {},
   "outputs": [],
   "source": []
  },
  {
   "cell_type": "code",
   "execution_count": null,
   "metadata": {},
   "outputs": [],
   "source": []
  },
  {
   "cell_type": "code",
   "execution_count": null,
   "metadata": {},
   "outputs": [],
   "source": []
  },
  {
   "cell_type": "code",
   "execution_count": null,
   "metadata": {},
   "outputs": [],
   "source": []
  },
  {
   "cell_type": "code",
   "execution_count": null,
   "metadata": {},
   "outputs": [],
   "source": []
  },
  {
   "cell_type": "code",
   "execution_count": null,
   "metadata": {},
   "outputs": [],
   "source": []
  },
  {
   "cell_type": "code",
   "execution_count": null,
   "metadata": {},
   "outputs": [],
   "source": []
  },
  {
   "cell_type": "code",
   "execution_count": null,
   "metadata": {},
   "outputs": [],
   "source": []
  },
  {
   "cell_type": "code",
   "execution_count": null,
   "metadata": {},
   "outputs": [],
   "source": []
  },
  {
   "cell_type": "code",
   "execution_count": null,
   "metadata": {},
   "outputs": [],
   "source": []
  },
  {
   "cell_type": "code",
   "execution_count": null,
   "metadata": {},
   "outputs": [],
   "source": []
  },
  {
   "cell_type": "code",
   "execution_count": null,
   "metadata": {},
   "outputs": [],
   "source": []
  },
  {
   "cell_type": "code",
   "execution_count": null,
   "metadata": {},
   "outputs": [],
   "source": []
  }
 ],
 "metadata": {
  "kernelspec": {
   "display_name": "Python 3",
   "language": "python",
   "name": "python3"
  },
  "language_info": {
   "codemirror_mode": {
    "name": "ipython",
    "version": 3
   },
   "file_extension": ".py",
   "mimetype": "text/x-python",
   "name": "python",
   "nbconvert_exporter": "python",
   "pygments_lexer": "ipython3",
   "version": "3.6.5"
  }
 },
 "nbformat": 4,
 "nbformat_minor": 2
}
